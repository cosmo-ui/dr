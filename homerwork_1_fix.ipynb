{
 "cells": [
  {
   "cell_type": "code",
   "execution_count": 9,
   "metadata": {},
   "outputs": [
    {
     "name": "stdout",
     "output_type": "stream",
     "text": [
      "1.0\n",
      "2.0\n",
      "3.0\n",
      "4.0\n",
      "5.0\n",
      "\n",
      "1\n",
      "2\n",
      "3\n",
      "4\n",
      "5\n",
      "\n",
      "1.0\n",
      "2.0\n",
      "3.0\n",
      "4.0\n",
      "5.0\n",
      "\n",
      "1\n",
      "2\n",
      "3\n",
      "4\n",
      "5\n",
      "\n",
      "4\n",
      "5\n",
      "2\n",
      "3\n",
      "5\n",
      "\n",
      "4.5\n",
      "1.6\n",
      "3.7\n",
      "3.9\n",
      "9.8\n",
      "\n"
     ]
    }
   ],
   "source": [
    "#задание 1\n",
    "p=[]#список для вещественных чисел\n",
    "for i in range(5):\n",
    "    i+=1\n",
    "    float_i=float(i)\n",
    "    print(float_i)\n",
    "    p.append(float_i)\n",
    "print( )\n",
    "\n",
    "    \n",
    "#задание2                          \n",
    "h=[]#список для целых чисел\n",
    "for n in p:\n",
    "    int_n=int(n)\n",
    "    print(int_n)\n",
    "    h.append(int_n)\n",
    "print( )\n",
    "\n",
    "#задание 3\n",
    "for n in p:\n",
    "    print(str(n))\n",
    "print( )\n",
    "    \n",
    "#задание 4   \n",
    "for n in h:\n",
    "    print(str(n))\n",
    "print( )\n",
    "    \n",
    "#задание 5    \n",
    "r1='4 5 2 3 5'\n",
    "u=r1.split()\n",
    "for i in u:\n",
    "    print(int(i))\n",
    "print( )\n",
    "\n",
    "    \n",
    "#задание 6    \n",
    "r2='4.5 1.6 3.7 3.9 9.8'\n",
    "w=r2.split()\n",
    "for i in w:\n",
    "    print(float(i))\n",
    "print( )\n",
    "\n",
    "\n",
    "    \n",
    "\n",
    "    \n",
    "\n",
    "\n",
    "    \n",
    "    "
   ]
  },
  {
   "cell_type": "code",
   "execution_count": 37,
   "metadata": {},
   "outputs": [
    {
     "name": "stdout",
     "output_type": "stream",
     "text": [
      "гипотенуза треугольника с катетами 3 и 4 равна 5.0\n",
      "гипотенуза треугольника с катетами 4 и 6 равна 7.211102550927978\n",
      "гипотенуза треугольника с катетами 7 и 8 равна 10.63014581273465\n"
     ]
    }
   ],
   "source": [
    "#формула для нахождения гипотенузы прямоугольного треугольника\n",
    "def gip(a,b):\n",
    "    gip=(a**2+b**2)**0.5\n",
    "    print(f'гипотенуза треугольника с катетами {a} и {b} равна {gip}') \n",
    "gip(3,4)\n",
    "gip(4,6)\n",
    "gip(7,8)\n"
   ]
  },
  {
   "cell_type": "code",
   "execution_count": 40,
   "metadata": {},
   "outputs": [
    {
     "name": "stdout",
     "output_type": "stream",
     "text": [
      " площадь теугольника со сторонами 2, 4 и 5 равна 3.799671038392666\n",
      " площадь теугольника со сторонами 3, 4 и 9 равна (7.745346429080775e-16+12.649110640673518j)\n",
      " площадь теугольника со сторонами 3, 4 и 5 равна 6.0\n"
     ]
    }
   ],
   "source": [
    "#формула Герона\n",
    "def s(a,b,c):\n",
    "    p=(a+b+c)*0.5\n",
    "    s=(p*(p-a)*(p-b)*(p-c))**0.5\n",
    "    print(f' площадь теугольника со сторонами {a}, {b} и {c} равна {s}')\n",
    "s(2,4,5)\n",
    "s(3,4,9)\n",
    "s(3,4,5)\n"
   ]
  },
  {
   "cell_type": "code",
   "execution_count": 41,
   "metadata": {},
   "outputs": [
    {
     "name": "stdout",
     "output_type": "stream",
     "text": [
      " потенциальная энергия тела массой 4, которое расположено на высте 8 над землей равна 313.6\n",
      " потенциальная энергия тела массой 2, которое расположено на высте 4 над землей равна 78.4\n",
      " потенциальная энергия тела массой 3, которое расположено на высте 3 над землей равна 88.2\n"
     ]
    }
   ],
   "source": [
    "#формула для потенциальной энергии\n",
    "def Ep(m,g,h):\n",
    "    Ep=m*g*h\n",
    "    print(f' потенциальная энергия тела массой {m}, которое расположено на высте {h} над землей равна {Ep}')\n",
    "Ep(4,9.8,8)\n",
    "Ep(2,9.8,4)\n",
    "Ep(3,9.8,3)"
   ]
  },
  {
   "cell_type": "code",
   "execution_count": 43,
   "metadata": {},
   "outputs": [
    {
     "name": "stdout",
     "output_type": "stream",
     "text": [
      "30\n",
      "fizzbuzz\n"
     ]
    }
   ],
   "source": [
    "a=int(input())\n",
    "if a%15==0:\n",
    "    print('fizzbuzz')\n",
    "elif a%3==0:\n",
    "    print('fizz')\n",
    "elif a%5==0:\n",
    "    print('buzz')\n",
    "else:\n",
    "    print(a)"
   ]
  },
  {
   "cell_type": "code",
   "execution_count": 12,
   "metadata": {},
   "outputs": [
    {
     "name": "stdout",
     "output_type": "stream",
     "text": [
      "not_\n",
      "True\n",
      "False\n",
      "Xnor\n",
      "False\n",
      "True\n",
      "True\n",
      "False\n",
      "or_\n",
      "True\n",
      "True\n",
      "True\n",
      "False\n",
      "nor\n",
      "False\n",
      "False\n",
      "False\n",
      "True\n",
      "and_\n",
      "True\n",
      "False\n",
      "False\n",
      "False\n",
      "nand\n",
      "True\n",
      "True\n",
      "True\n",
      "False\n"
     ]
    }
   ],
   "source": [
    "#not\n",
    "def not_(a):\n",
    "    if a:\n",
    "        print(False)\n",
    "    else:\n",
    "        print(True)\n",
    "print('not_')\n",
    "not_(False)\n",
    "not_(True)\n",
    "\n",
    "\n",
    "#xor\n",
    "def xnor(a,b):\n",
    "    if (a or b) and not (a and b):\n",
    "        print(True)\n",
    "    else:\n",
    "        print(False)\n",
    "print('Xnor')\n",
    "xnor(False,False)\n",
    "xnor(True,False)\n",
    "xnor(False,True)\n",
    "xnor(True,True)\n",
    "\n",
    "def or_(a,b):\n",
    "    if a or b:\n",
    "        print(True)\n",
    "    else:\n",
    "        print(False)\n",
    "print('or_')\n",
    "or_(False,True)\n",
    "or_(True,False)\n",
    "or_(True,True)\n",
    "or_(False,False)\n",
    "\n",
    "def nor(a,b):\n",
    "    if not a and not b:\n",
    "        print(True)\n",
    "    else:\n",
    "        print(False)\n",
    "\n",
    "print('nor')\n",
    "nor(False,True)\n",
    "nor(True,False)\n",
    "nor(True,True)\n",
    "nor(False,False)\n",
    "\n",
    "def and_(a,b):\n",
    "    if a and b:\n",
    "        print(True)\n",
    "    else:\n",
    "        print(False)\n",
    "print('and_')\n",
    "and_(True,True)\n",
    "and_(True,False)\n",
    "and_(False,True)\n",
    "and_(False,False)\n",
    "\n",
    "def nand(a,b):\n",
    "        print(a or b)\n",
    "print('nand')\n",
    "nand(True,True)\n",
    "nand(True,False)\n",
    "nand(False,True)\n",
    "nand(False,False)\n",
    " \n",
    "    \n"
   ]
  },
  {
   "cell_type": "code",
   "execution_count": null,
   "metadata": {},
   "outputs": [],
   "source": []
  }
 ],
 "metadata": {
  "kernelspec": {
   "display_name": "Python 3",
   "language": "python",
   "name": "python3"
  },
  "language_info": {
   "codemirror_mode": {
    "name": "ipython",
    "version": 3
   },
   "file_extension": ".py",
   "mimetype": "text/x-python",
   "name": "python",
   "nbconvert_exporter": "python",
   "pygments_lexer": "ipython3",
   "version": "3.7.3"
  }
 },
 "nbformat": 4,
 "nbformat_minor": 2
}
