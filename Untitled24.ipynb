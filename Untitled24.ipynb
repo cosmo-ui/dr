{
 "cells": [
  {
   "cell_type": "code",
   "execution_count": 25,
   "metadata": {},
   "outputs": [
    {
     "name": "stdout",
     "output_type": "stream",
     "text": [
      "3\n",
      "1.0\n",
      "2.0\n",
      "3.0\n",
      "4.0\n",
      "5.0\n",
      "1\n",
      "2\n",
      "3\n",
      "4\n",
      "5\n",
      "1.0\n",
      "2.0\n",
      "3.0\n",
      "4.0\n",
      "5.0\n",
      "1\n",
      "2\n",
      "3\n",
      "4\n",
      "5\n",
      "4\n",
      "5\n",
      "2\n",
      "3\n",
      "5\n",
      "4.5\n",
      "1.6\n",
      "3.7\n",
      "3.9\n",
      "9.8\n"
     ]
    }
   ],
   "source": [
    "#задание 1\n",
    "i=int(input())\n",
    "p=[]#список для вещественных чисел\n",
    "for i in range(5):\n",
    "    i+=1\n",
    "    print(float(i))\n",
    "    p+=[float(i)]\n",
    "\n",
    "\n",
    "    \n",
    "#задание2                          \n",
    "h=[]#список для целых чисел\n",
    "for n in p:\n",
    "    print(int(n))\n",
    "    h.append(int(n))\n",
    "\n",
    "#задание 3\n",
    "for n in p:\n",
    "    print(str(n))\n",
    "    \n",
    "#задание 4   \n",
    "for n in h:\n",
    "    print(str(n))\n",
    "    \n",
    "#задание 5    \n",
    "r1='4 5 2 3 5'\n",
    "u=r1.split()\n",
    "for i in u:\n",
    "    print(int(i))\n",
    "    \n",
    "#задание 6    \n",
    "r2='4.5 1.6 3.7 3.9 9.8'\n",
    "w=r2.split()\n",
    "for i in w:\n",
    "    print(float(i))\n",
    "\n",
    "\n",
    "    \n",
    "\n",
    "    \n",
    "\n",
    "\n",
    "    \n",
    "    "
   ]
  },
  {
   "cell_type": "markdown",
   "metadata": {},
   "source": [
    "r='4 5 2 3 5'\n",
    "h=r.split()\n",
    "print(h)\n",
    "    "
   ]
  },
  {
   "cell_type": "code",
   "execution_count": 37,
   "metadata": {},
   "outputs": [
    {
     "name": "stdout",
     "output_type": "stream",
     "text": [
      "гипотенуза треугольника с катетами 3 и 4 равна 5.0\n",
      "гипотенуза треугольника с катетами 4 и 6 равна 7.211102550927978\n",
      "гипотенуза треугольника с катетами 7 и 8 равна 10.63014581273465\n"
     ]
    }
   ],
   "source": [
    "#формула для нахождения гипотенузы прямоугольного треугольника\n",
    "def gip(a,b):\n",
    "    gip=(a**2+b**2)**0.5\n",
    "    print(f'гипотенуза треугольника с катетами {a} и {b} равна {gip}') \n",
    "gip(3,4)\n",
    "gip(4,6)\n",
    "gip(7,8)\n"
   ]
  },
  {
   "cell_type": "code",
   "execution_count": 40,
   "metadata": {},
   "outputs": [
    {
     "name": "stdout",
     "output_type": "stream",
     "text": [
      " площадь теугольника со сторонами 2, 4 и 5 равна 3.799671038392666\n",
      " площадь теугольника со сторонами 3, 4 и 9 равна (7.745346429080775e-16+12.649110640673518j)\n",
      " площадь теугольника со сторонами 3, 4 и 5 равна 6.0\n"
     ]
    }
   ],
   "source": [
    "#формула Герона\n",
    "def s(a,b,c):\n",
    "    p=(a+b+c)*0.5\n",
    "    s=(p*(p-a)*(p-b)*(p-c))**0.5\n",
    "    print(f' площадь теугольника со сторонами {a}, {b} и {c} равна {s}')\n",
    "s(2,4,5)\n",
    "s(3,4,9)\n",
    "s(3,4,5)\n"
   ]
  },
  {
   "cell_type": "code",
   "execution_count": 41,
   "metadata": {},
   "outputs": [
    {
     "name": "stdout",
     "output_type": "stream",
     "text": [
      " потенциальная энергия тела массой 4, которое расположено на высте 8 над землей равна 313.6\n",
      " потенциальная энергия тела массой 2, которое расположено на высте 4 над землей равна 78.4\n",
      " потенциальная энергия тела массой 3, которое расположено на высте 3 над землей равна 88.2\n"
     ]
    }
   ],
   "source": [
    "#формула для потенциальной энергии\n",
    "def Ep(m,g,h):\n",
    "    Ep=m*g*h\n",
    "    print(f' потенциальная энергия тела массой {m}, которое расположено на высте {h} над землей равна {Ep}')\n",
    "Ep(4,9.8,8)\n",
    "Ep(2,9.8,4)\n",
    "Ep(3,9.8,3)"
   ]
  },
  {
   "cell_type": "code",
   "execution_count": 43,
   "metadata": {},
   "outputs": [
    {
     "name": "stdout",
     "output_type": "stream",
     "text": [
      "30\n",
      "fizzbuzz\n"
     ]
    }
   ],
   "source": [
    "a=int(input())\n",
    "if a%15==0:\n",
    "    print('fizzbuzz')\n",
    "elif a%3==0:\n",
    "    print('fizz')\n",
    "elif a%5==0:\n",
    "    print('buzz')\n",
    "else:\n",
    "    print(a)"
   ]
  },
  {
   "cell_type": "code",
   "execution_count": 66,
   "metadata": {},
   "outputs": [
    {
     "name": "stdout",
     "output_type": "stream",
     "text": [
      "not_\n",
      "1\n",
      "0\n",
      "Xnor\n",
      "0\n",
      "1\n",
      "1\n",
      "0\n",
      "or_\n",
      "1\n",
      "1\n",
      "1\n",
      "0\n",
      "nor\n",
      "0\n",
      "0\n",
      "0\n",
      "1\n",
      "and_\n",
      "1\n",
      "0\n",
      "0\n",
      "0\n",
      "nand\n",
      "1\n",
      "1\n",
      "1\n",
      "0\n"
     ]
    }
   ],
   "source": [
    "#not\n",
    "def not_(a):\n",
    "    if a:\n",
    "        print(0)\n",
    "    else:\n",
    "        print(1)\n",
    "print('not_')\n",
    "not_(0)\n",
    "not_(1)\n",
    "\n",
    "\n",
    "#xor\n",
    "def xnor(a,b):\n",
    "    if (a or b) and not (a and b):\n",
    "        print(1)\n",
    "    else:\n",
    "        print(0)\n",
    "print('Xnor')\n",
    "xnor(0,0)\n",
    "xnor(1,0)\n",
    "xnor(0,1)\n",
    "xnor(1,1)\n",
    "\n",
    "def or_(a,b):\n",
    "    if a or b:\n",
    "        print(1)\n",
    "    else:\n",
    "        print(0)\n",
    "print('or_')\n",
    "or_(0,1)\n",
    "or_(1,0)\n",
    "or_(1,1)\n",
    "or_(0,0)\n",
    "\n",
    "def nor(a,b):\n",
    "    if not a and not b:\n",
    "        print(1)\n",
    "    else:\n",
    "        print(0)\n",
    "\n",
    "print('nor')\n",
    "nor(0,1)\n",
    "nor(1,0)\n",
    "nor(1,1)\n",
    "nor(0,0)\n",
    "\n",
    "def and_(a,b):\n",
    "    if a and b:\n",
    "        print(1)\n",
    "    else:\n",
    "        print(0)\n",
    "print('and_')\n",
    "and_(1,1)\n",
    "and_(1,0)\n",
    "and_(0,1)\n",
    "and_(0,0)\n",
    "\n",
    "def nand(a,b):\n",
    "    if not a and not b:\n",
    "        print(0)\n",
    "    else:\n",
    "        print(1)\n",
    "print('nand')\n",
    "nand(1,1)\n",
    "nand(1,0)\n",
    "nand(0,1)\n",
    "nand(0,0)\n",
    " \n",
    "    \n"
   ]
  },
  {
   "cell_type": "code",
   "execution_count": null,
   "metadata": {},
   "outputs": [],
   "source": []
  }
 ],
 "metadata": {
  "kernelspec": {
   "display_name": "Python 3",
   "language": "python",
   "name": "python3"
  },
  "language_info": {
   "codemirror_mode": {
    "name": "ipython",
    "version": 3
   },
   "file_extension": ".py",
   "mimetype": "text/x-python",
   "name": "python",
   "nbconvert_exporter": "python",
   "pygments_lexer": "ipython3",
   "version": "3.7.3"
  }
 },
 "nbformat": 4,
 "nbformat_minor": 2
}
