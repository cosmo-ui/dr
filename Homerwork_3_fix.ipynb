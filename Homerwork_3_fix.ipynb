{
 "cells": [
  {
   "cell_type": "code",
   "execution_count": 19,
   "metadata": {},
   "outputs": [
    {
     "name": "stdout",
     "output_type": "stream",
     "text": [
      "{1, 3.5, 'apple', 100, 'home', 7} \n",
      " {3.5} \n",
      " {1, 'home', 7} \n",
      " {1, 100, 7, 'apple', 'home'} \n",
      " False\n"
     ]
    }
   ],
   "source": [
    "my_set = set()\n",
    "my_set.add(100)\n",
    "my_set.add('apple')\n",
    "my_set.add(3.5)\n",
    "my_set2 = {1, 3.5, 7, 'home'}\n",
    "union_set = my_set.union(my_set2)# union_set состоит из элементов my_set и my_set2\n",
    "intersection_set = my_set & my_set2# intersection_set состоит из общих элементов my_set и my_set2\n",
    "dif_set = my_set2 - my_set# dif_set состоит из элементов my_set2, которых нет в my_set\n",
    "sym_dif_set = my_set ^ my_set2# sym_dif_set состоит из элементов my_set и my_set2 кроме тех, что есть и в my_set и в my_set2\n",
    "check_set = my_set.issubset(my_set2)# check_set проверяет является ли my_set дочерним my_set2\n",
    "print(union_set,'\\n',intersection_set,'\\n', dif_set,'\\n', sym_dif_set, '\\n', check_set)\n",
    "\n",
    " \n"
   ]
  },
  {
   "cell_type": "code",
   "execution_count": 2,
   "metadata": {},
   "outputs": [
    {
     "name": "stdout",
     "output_type": "stream",
     "text": [
      "dict_items([(3, 243), (6, 7776), (2, 32), (9, 59049)])\n",
      "243\n",
      "3 243\n",
      "6 7776\n",
      "2 32\n",
      "9 59049\n"
     ]
    }
   ],
   "source": [
    "my_dict = {}# create new dict\n",
    "my_dict = {x: x**5 for x in (3,6,2,9,0)}# заполняем словарь элементами, используюя dict comprehensions \n",
    "my_dict.popitem()# удалим случайную пару (key,value)\n",
    "del my_dict[6]# удалим значение соответствующее ключу 6\n",
    "print(my_dict.get(3))# выведет значение соответствующее ключу 3\n",
    "print(my_dict.items())# выводит лист с key value\n",
    "for key, value in my_dict.items():# а можно так(нагляднее)\n",
    "    print(key,value)\n",
    "\n"
   ]
  },
  {
   "cell_type": "code",
   "execution_count": 31,
   "metadata": {},
   "outputs": [
    {
     "name": "stdout",
     "output_type": "stream",
     "text": [
      "hdgasdcgsdgcjsgdjasd bbb  hh\n",
      "Cтрока не начинается с заглавной буквы \n",
      " число букв в строке 25 \n",
      " cтрока не заканчивается на '!!' \n",
      " число встречаний строки 'fire' 0 \n",
      " HDGASDCGSDGCJSGDJASD BBB  HH \n",
      " hdgasdcgsdgcjsgdjasd bbb  hh \n",
      " Hdgasdcgsdgcjsgdjasd Bbb  Hh\n"
     ]
    }
   ],
   "source": [
    "#Создайте программу, принимающую на вход строку и выводящую, начинается ли строка с заглавной буквы,\n",
    "#число букв в строке, заканчивается ли она на '!!', число встречаний строки 'fire', а также эту же строку,\n",
    "#где все буквы большие, маленькие и вариант, в котором все слова начинаются с большой буквы\n",
    "my_string=str(input())\n",
    "count_alpha=0\n",
    "if my_string[0].isupper():\n",
    "    h='Cтрока начинается с заглавной буквы'\n",
    "else:\n",
    "    h='Cтрока не начинается с заглавной буквы'\n",
    "for i in my_string:\n",
    "    if i.isalpha():\n",
    "        count_alpha+=1\n",
    "if my_string.startswith('!!', len(my_string)-2):\n",
    "    sufix=\"cтрока заканчивается на '!!'\"\n",
    "else:\n",
    "    sufix=\"cтрока не заканчивается на '!!'\"\n",
    "i = my_string.count('fire')\n",
    "   \n",
    "print(h, '\\n', 'число букв в строке', count_alpha, '\\n', sufix, '\\n',\"число встречаний строки 'fire'\",\n",
    "      i, '\\n', my_string.upper(), '\\n', my_string.lower(), '\\n', my_string.title())\n"
   ]
  },
  {
   "cell_type": "code",
   "execution_count": 38,
   "metadata": {},
   "outputs": [
    {
     "name": "stdout",
     "output_type": "stream",
     "text": [
      " dflsdfls\n",
      "строка начинается с пробельного символа\n"
     ]
    }
   ],
   "source": [
    "#Напишите программу, принимающую на вход строку и выводящую с чего эта строка начинается (цифра, буква, пробельный символ)\n",
    "my_string=str(input())\n",
    "if my_string[0].isalpha():\n",
    "    print('строка начинается с буквы')\n",
    "elif my_string[0].isdigit():\n",
    "    print('строка начинается с цифры')\n",
    "elif my_string[0].isspace():\n",
    "    print('строка начинается с пробельного символа')"
   ]
  },
  {
   "cell_type": "code",
   "execution_count": 16,
   "metadata": {},
   "outputs": [
    {
     "name": "stdout",
     "output_type": "stream",
     "text": [
      "{'з', ' ', 'н', 'в', 'Х', 'с', 'и', 'а', 'м', 'л', 'е', 'у', 'д', 'о'}\n",
      "{'з', ' ', 'н', 'в', 'Х', 'с', 'и', 'а', 'м', 'л', 'е', 'у', 'д', 'о'}\n",
      "['з', ' ', 'н', 'в', 'Х', 'с', 'и', 'а', 'м', 'л', 'е', 'у', 'д', 'о']\n"
     ]
    }
   ],
   "source": [
    "#Сконвертируйте заданные вами список, кортеж, сэт и строку друг в друга всеми возможными \n",
    "#способами (строка -> лист, строка -> кортеж, ...)\n",
    "my_str='Холодно в зимнем саду'\n",
    "my_list=list(my_str)# строка -> лист\n",
    "my_tup=tuple(my_str)# строка -> кортеж\n",
    "my_set=set(my_str)# строка -> сэт\n",
    "my_str=str(my_list)# список -> строку\n",
    "my_tup=tuple(my_list)# список -> кортеж\n",
    "my_set=set(my_list)# список -> сэт\n",
    "my_list=list(my_tup)# кортеж -> лист\n",
    "my_str=str(my_tup)# кортеж -> строку\n",
    "my_set=set(my_tup)# кортеж -> сэт\n",
    "my_list=list(my_set)# сэт -> лист\n",
    "my_str=str(my_set)# сэт -> строку\n",
    "my_tup=set(my_set)# сэт -> кортеж"
   ]
  },
  {
   "cell_type": "code",
   "execution_count": 41,
   "metadata": {},
   "outputs": [
    {
     "name": "stdout",
     "output_type": "stream",
     "text": [
      "acacataga\n"
     ]
    }
   ],
   "source": [
    "s = 'agatacaca'\n",
    "print(s[::-1])"
   ]
  },
  {
   "cell_type": "code",
   "execution_count": 1,
   "metadata": {},
   "outputs": [
    {
     "name": "stdout",
     "output_type": "stream",
     "text": [
      "tttaaaacccggg\n",
      "GGGCCCAAAATTT\n"
     ]
    }
   ],
   "source": [
    "#Напишите реверскомплементатор (чем больше способов, тем лучше), на вход подаётся строка ДНК, \n",
    "#нужно чтобы выводился реверскомплемент заглавными буквами (5 баллов * число способов)\n",
    "my_seq = str(input())\n",
    "my_seq_rev = my_seq[::-1]\n",
    "my_seq_rev1 = my_seq_rev.upper()\n",
    "for i in my_seq_rev1:\n",
    "    if i == 'C':\n",
    "        i = 'G'\n",
    "    elif i == 'G':\n",
    "         i = 'G'\n",
    "    elif i == 'A':\n",
    "        i = 'T'\n",
    "    else:\n",
    "        i = 'A'\n",
    "print(my_seq_rev1)"
   ]
  },
  {
   "cell_type": "code",
   "execution_count": null,
   "metadata": {},
   "outputs": [],
   "source": [
    "#2 cпособ\n",
    "my_seq = str(input())\n",
    "my_seq_rev = my_seq[::-1]\n",
    "m = my_seq_rev.replace('a','s')\n",
    "m = m.replace('g','k')\n",
    "m = m.replace('t','a')\n",
    "m = m.replace('c', 'g')\n",
    "m = m.replace('s','t')\n",
    "m = m.replace('k','c')\n",
    "print(m.upper())"
   ]
  }
 ],
 "metadata": {
  "kernelspec": {
   "display_name": "Python 3",
   "language": "python",
   "name": "python3"
  },
  "language_info": {
   "codemirror_mode": {
    "name": "ipython",
    "version": 3
   },
   "file_extension": ".py",
   "mimetype": "text/x-python",
   "name": "python",
   "nbconvert_exporter": "python",
   "pygments_lexer": "ipython3",
   "version": "3.7.3"
  }
 },
 "nbformat": 4,
 "nbformat_minor": 2
}
