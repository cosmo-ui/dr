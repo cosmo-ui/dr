{
 "cells": [
  {
   "cell_type": "code",
   "execution_count": 19,
   "metadata": {},
   "outputs": [
    {
     "name": "stdout",
     "output_type": "stream",
     "text": [
      "[3.5, 10, 3, 3, False, 2.5] \n",
      " 6 \n",
      " 2\n"
     ]
    }
   ],
   "source": [
    "'''\n",
    "Создайте пустой список, добавьте к нему несколько элементов разных типов, увеличьте его с помощью другого списка, \n",
    "удалите из него какие-то из элементов, задайте элемент с индексом 1 равным 10, посчитайте сколько раз определённый элемент\n",
    "присутствует в вашем списке, найдите длину списка\n",
    "'''\n",
    "\n",
    "a=list()\n",
    "b=[3, 5, False, 2.5]\n",
    "a.append(3.5)#добавление к списку переменной типа float\n",
    "a.append(True)#добавление к списку переменной типа bool\n",
    "a.append(3)#добавление к списку переменной типа int\n",
    "a.extend(b)#расширение списка a при помощи другого списка \n",
    "a.remove(a[4])#удалим из списка элемент с индексом 4\n",
    "a[1]=10#добавим в а элемент=10 с индексом 1\n",
    "count_3_in_a=a.count(3)#посчитаем сколько раз элемент=3 встречается в списке\n",
    "len_a=len(a)#найдем длину списка \n",
    "print(a,'\\n', len_a, '\\n', count_3_in_a)"
   ]
  },
  {
   "cell_type": "code",
   "execution_count": 27,
   "metadata": {},
   "outputs": [
    {
     "name": "stdout",
     "output_type": "stream",
     "text": [
      "(2, 5, False, 8.6, 5, 5, 5) \n",
      " 1 \n",
      " 0\n"
     ]
    }
   ],
   "source": [
    "#Сделайте то же самое (что возможно) с кортежем (6 баллов)\n",
    "t=()\n",
    "t2=(2, 5, False, 8.6, 5, 5, 5)\n",
    "count_False_in_t2=t2.count(False)\n",
    "len_t=len(t)\n",
    "print(t2,'\\n', count_False_in_t2,'\\n', len_t)"
   ]
  },
  {
   "cell_type": "code",
   "execution_count": 28,
   "metadata": {},
   "outputs": [
    {
     "name": "stdout",
     "output_type": "stream",
     "text": [
      "Hi, Denis\n",
      "Hi, Katya\n",
      "Hi, Alena\n",
      "Hi, Andrey\n",
      "Hi, Misha\n",
      "Hi, everyone!\n"
     ]
    }
   ],
   "source": [
    "friends=['Denis', 'Katya', 'Alena', 'Andrey', 'Misha']\n",
    "for friend in friends:\n",
    "    print('Hi,', friend)\n",
    "print('Hi, everyone!')\n",
    "    "
   ]
  },
  {
   "cell_type": "code",
   "execution_count": 30,
   "metadata": {},
   "outputs": [
    {
     "name": "stdout",
     "output_type": "stream",
     "text": [
      "[1077, -11, -89, 41, 3]\n"
     ]
    }
   ],
   "source": [
    "list1 = [1000, 42, -97, 0, -1]\n",
    "list2 = [77, -53, 8, 41, 4]\n",
    "list_sum =[]\n",
    "for i, el_1 in enumerate(list1):\n",
    "    new_element = el_1 + list2[i]\n",
    "    list_sum.append(new_element)\n",
    "print(list_sum)\n",
    "    "
   ]
  },
  {
   "cell_type": "code",
   "execution_count": 39,
   "metadata": {},
   "outputs": [
    {
     "name": "stdout",
     "output_type": "stream",
     "text": [
      "232\n"
     ]
    }
   ],
   "source": [
    "numbers = (2, 4, 75, 100, 0, -3, 9, 17, -2, 88, 40)\n",
    "sum_=0\n",
    "for num in numbers:\n",
    "        if num % 2 ==1:\n",
    "             continue\n",
    "        else:\n",
    "            sum_+=num\n",
    "print(sum_)\n",
    "        "
   ]
  },
  {
   "cell_type": "code",
   "execution_count": 63,
   "metadata": {},
   "outputs": [
    {
     "name": "stdout",
     "output_type": "stream",
     "text": [
      "3 4 3\n",
      "равнобедренный\n"
     ]
    }
   ],
   "source": [
    "a=[]\n",
    "for i in input().split():\n",
    "    a.append(i)\n",
    "if a[0]==a[1] and a[1]==a[2]:\n",
    "    print('равносторонний')\n",
    "elif a[0]==a[1] or a[1]==a[2] or a[0]==a[2]:\n",
    "    print('равнобедренный')\n",
    "else:\n",
    "    print('разносторонний')"
   ]
  },
  {
   "cell_type": "code",
   "execution_count": 75,
   "metadata": {},
   "outputs": [
    {
     "name": "stdout",
     "output_type": "stream",
     "text": [
      "[3, 2, 1]\n"
     ]
    }
   ],
   "source": [
    "#способ номер 1\n",
    "e = [1, 2, ('fruit', 5)]\n",
    "print(e[::-1])"
   ]
  },
  {
   "cell_type": "code",
   "execution_count": 76,
   "metadata": {},
   "outputs": [
    {
     "name": "stdout",
     "output_type": "stream",
     "text": [
      "[('fruit', 5), 2, 1]\n"
     ]
    }
   ],
   "source": [
    "#способ номер 2\n",
    "e = [1, 2, ('fruit', 5)]\n",
    "e.reverse()\n",
    "print(e)"
   ]
  },
  {
   "cell_type": "code",
   "execution_count": 115,
   "metadata": {},
   "outputs": [
    {
     "name": "stdout",
     "output_type": "stream",
     "text": [
      "[('fruit', 5), 5, 0, 2, 1]\n"
     ]
    }
   ],
   "source": [
    "#способ номер 3\n",
    "e=[1, 2,  ('fruit', 5)]\n",
    "r=e.copy()#этот список будем использовать для изменения исходного\n",
    "tot=len(e)-1\n",
    "i=0\n",
    "if len(e)%2==0:\n",
    "    dev=len(e)/2\n",
    "else:\n",
    "    dev=len(e)/2-0.5\n",
    "while i <= dev:\n",
    "    e[i]=r[tot]#заменяет элементы из первой части списка\n",
    "    e[tot]=r[i]#заменяет элементы из второй части списка\n",
    "    tot-=1\n",
    "    i+=1\n",
    "print(e)\n"
   ]
  }
 ],
 "metadata": {
  "kernelspec": {
   "display_name": "Python 3",
   "language": "python",
   "name": "python3"
  }
 },
 "nbformat": 4,
 "nbformat_minor": 2
}
